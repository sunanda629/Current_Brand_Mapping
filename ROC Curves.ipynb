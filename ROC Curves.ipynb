{
 "cells": [
  {
   "cell_type": "code",
   "execution_count": 1,
   "metadata": {},
   "outputs": [],
   "source": [
    "%matplotlib inline\n",
    "import numpy as np\n",
    "from sklearn import datasets\n",
    "import matplotlib.pyplot as plt\n",
    "from mpl_toolkits.mplot3d import Axes3D\n",
    "from sklearn.metrics import confusion_matrix\n",
    "plt.style.use('ggplot')\n",
    "import pandas as pd\n",
    "from sklearn.metrics import roc_curve, auc, roc_auc_score"
   ]
  },
  {
   "cell_type": "code",
   "execution_count": 2,
   "metadata": {},
   "outputs": [],
   "source": [
    "ML_output = pd.read_csv('MultiLogistic_Holdout_Preds.csv')\n",
    "NB_output = pd.read_csv('NB_output.csv')"
   ]
  },
  {
   "cell_type": "code",
   "execution_count": null,
   "metadata": {},
   "outputs": [],
   "source": [
    "NB_output.sample(5)"
   ]
  },
  {
   "cell_type": "code",
   "execution_count": null,
   "metadata": {},
   "outputs": [],
   "source": [
    "NB_output.columns"
   ]
  },
  {
   "cell_type": "code",
   "execution_count": 3,
   "metadata": {},
   "outputs": [],
   "source": [
    "NB_output.drop('Unnamed: 0',axis=1,inplace=True)"
   ]
  },
  {
   "cell_type": "code",
   "execution_count": 4,
   "metadata": {},
   "outputs": [],
   "source": [
    "NB_output.rename(columns = {'Labels':'mapped_brand', 'Predictions':'mapped_brand_response'}, inplace=True)"
   ]
  },
  {
   "cell_type": "code",
   "execution_count": null,
   "metadata": {},
   "outputs": [],
   "source": [
    "NB_output['mapped_brand'].value_counts().head(5)"
   ]
  },
  {
   "cell_type": "code",
   "execution_count": null,
   "metadata": {},
   "outputs": [],
   "source": [
    "NB_output.sample(5)"
   ]
  },
  {
   "cell_type": "code",
   "execution_count": 5,
   "metadata": {},
   "outputs": [],
   "source": [
    "NB_output['true_target'] = np.where(NB_output['mapped_brand'].str.contains('target'),1,0)\n",
    "NB_output['true_starbucks'] = np.where(NB_output['mapped_brand'].str.contains('starbucks'),1,0)\n",
    "NB_output['true_mcdonalds'] = np.where(NB_output['mapped_brand'].str.contains('mcdonalds'),1,0)\n",
    "NB_output['true_atm'] = np.where(NB_output['mapped_brand'].str.contains('atm'),1,0)\n",
    "\n",
    "# NB_output['predict_target'] = np.where(NB_output['mapped_brand_response'].str.contains('target'),1,0)\n",
    "# NB_output['predict_starbucks'] = np.where(NB_output['mapped_brand_response'].str.contains('starbucks'),1,0)\n",
    "# NB_output['predict_mcdonalds'] = np.where(NB_output['mapped_brand_response'].str.contains('mcdonalds'),1,0)\n",
    "# NB_output['predict_atm'] = np.where(NB_output['mapped_brand_response'].str.contains('atm'),1,0)"
   ]
  },
  {
   "cell_type": "code",
   "execution_count": null,
   "metadata": {},
   "outputs": [],
   "source": [
    "true_NB = NB_output['true_atm']\n",
    "predicted_NB = NB_output['predict_atm']\n",
    "prob_NB = NB_output['Confidence']\n",
    "#print('confusion_matrix:\\n', confusion_matrix(true_NB,predicted_NB))\n",
    "\n",
    "ROC_NB = roc_curve(true_NB, prob_NB)\n",
    "\n",
    "plt.plot(ROC_NB[0],ROC_NB[1], c='g',label='Naiive Bayes')\n",
    "\n",
    "true_ML = ML_output['true_atm']\n",
    "predicted_ML = ML_output['predict_atm']\n",
    "prob_ML = ML_output['probs']\n",
    "\n",
    "ROC_ML = roc_curve(true_ML, prob_ML)\n",
    "\n",
    "plt.plot(ROC_ML[0],ROC_ML[1], c='b',label='Multilogistic')\n",
    "\n",
    "plt.title('ATM ROC Curve for Logistic Regression')\n",
    "plt.ylabel('True Positive Rate')\n",
    "plt.xlabel('False Positive Rate')\n",
    "\n",
    "print('AUC %.1f' %(auc(ROC_NB[0], ROC_NB[1])))\n",
    "print('AUC %.1f' %(auc(ROC_ML[0], ROC_ML[1])))\n",
    "plt.legend(loc=4)"
   ]
  },
  {
   "cell_type": "code",
   "execution_count": 8,
   "metadata": {},
   "outputs": [
    {
     "name": "stdout",
     "output_type": "stream",
     "text": [
      "AUC 0.6\n",
      "AUC 0.6\n"
     ]
    },
    {
     "data": {
      "text/plain": [
       "<matplotlib.legend.Legend at 0x1a14fc6908>"
      ]
     },
     "execution_count": 8,
     "metadata": {},
     "output_type": "execute_result"
    },
    {
     "data": {
      "image/png": "[encoded data removed]",
      "text/plain": [
       "<Figure size 432x288 with 1 Axes>"
      ]
     },
     "metadata": {},
     "output_type": "display_data"
    }
   ],
   "source": [
    "true_NB = NB_output['true_target']\n",
    "#predicted_NB = NB_output['predict_target']\n",
    "prob_NB = NB_output['Confidence']\n",
    "\n",
    "ROC_NB = roc_curve(true_NB, prob_NB)\n",
    "\n",
    "plt.plot(ROC_NB[0],ROC_NB[1], c='g',label='Naiive Bayes')\n",
    "\n",
    "\n",
    "true_ML = ML_output['true_target']\n",
    "#predicted_ML = ML_output['predict_target']\n",
    "prob_ML = ML_output['probs']\n",
    "\n",
    "ROC_ML = roc_curve(true_ML, prob_ML)\n",
    "\n",
    "plt.plot(ROC_ML[0],ROC_ML[1], c='b',label='Multilogistic')\n",
    "\n",
    "plt.title('Target ROC Curve for Logistic Regression')\n",
    "plt.ylabel('True Positive Rate')\n",
    "plt.xlabel('False Positive Rate')\n",
    "\n",
    "print('AUC %.1f' %(auc(ROC_NB[0], ROC_NB[1])))\n",
    "print('AUC %.1f' %(auc(ROC_ML[0], ROC_ML[1])))\n",
    "plt.legend(loc=4)"
   ]
  },
  {
   "cell_type": "code",
   "execution_count": 12,
   "metadata": {},
   "outputs": [
    {
     "data": {
      "text/html": [
       "<div>\n",
       "<style scoped>\n",
       "    .dataframe tbody tr th:only-of-type {\n",
       "        vertical-align: middle;\n",
       "    }\n",
       "\n",
       "    .dataframe tbody tr th {\n",
       "        vertical-align: top;\n",
       "    }\n",
       "\n",
       "    .dataframe thead th {\n",
       "        text-align: right;\n",
       "    }\n",
       "</style>\n",
       "<table border=\"1\" class=\"dataframe\">\n",
       "  <thead>\n",
       "    <tr style=\"text-align: right;\">\n",
       "      <th></th>\n",
       "      <th>Merchant_String</th>\n",
       "      <th>mapped_brand</th>\n",
       "      <th>mapped_brand_response</th>\n",
       "      <th>Confidence</th>\n",
       "      <th>CorrectPrediction</th>\n",
       "      <th>true_target</th>\n",
       "      <th>true_starbucks</th>\n",
       "      <th>true_mcdonalds</th>\n",
       "      <th>true_atm</th>\n",
       "    </tr>\n",
       "  </thead>\n",
       "  <tbody>\n",
       "    <tr>\n",
       "      <th>5554</th>\n",
       "      <td>target t 608 w main s z531z</td>\n",
       "      <td>target</td>\n",
       "      <td>dollargeneral</td>\n",
       "      <td>0.902669</td>\n",
       "      <td>0</td>\n",
       "      <td>1</td>\n",
       "      <td>0</td>\n",
       "      <td>0</td>\n",
       "      <td>0</td>\n",
       "    </tr>\n",
       "    <tr>\n",
       "      <th>24251</th>\n",
       "      <td>9target center z5814z</td>\n",
       "      <td>target</td>\n",
       "      <td>mcdonalds</td>\n",
       "      <td>0.492406</td>\n",
       "      <td>0</td>\n",
       "      <td>1</td>\n",
       "      <td>0</td>\n",
       "      <td>0</td>\n",
       "      <td>0</td>\n",
       "    </tr>\n",
       "    <tr>\n",
       "      <th>41744</th>\n",
       "      <td>paypal targetcorpo z531z</td>\n",
       "      <td>target</td>\n",
       "      <td>paypal</td>\n",
       "      <td>0.960771</td>\n",
       "      <td>0</td>\n",
       "      <td>1</td>\n",
       "      <td>0</td>\n",
       "      <td>0</td>\n",
       "      <td>0</td>\n",
       "    </tr>\n",
       "  </tbody>\n",
       "</table>\n",
       "</div>"
      ],
      "text/plain": [
       "                   Merchant_String mapped_brand mapped_brand_response  \\\n",
       "5554   target t 608 w main s z531z       target         dollargeneral   \n",
       "24251        9target center z5814z       target             mcdonalds   \n",
       "41744     paypal targetcorpo z531z       target                paypal   \n",
       "\n",
       "       Confidence  CorrectPrediction  true_target  true_starbucks  \\\n",
       "5554     0.902669                  0            1               0   \n",
       "24251    0.492406                  0            1               0   \n",
       "41744    0.960771                  0            1               0   \n",
       "\n",
       "       true_mcdonalds  true_atm  \n",
       "5554                0         0  \n",
       "24251               0         0  \n",
       "41744               0         0  "
      ]
     },
     "execution_count": 12,
     "metadata": {},
     "output_type": "execute_result"
    }
   ],
   "source": [
    "NB_output[(NB_output['mapped_brand'] == 'target') & (NB_output['mapped_brand_response'] != 'target')]"
   ]
  },
  {
   "cell_type": "code",
   "execution_count": 13,
   "metadata": {},
   "outputs": [
    {
     "data": {
      "text/html": [
       "<div>\n",
       "<style scoped>\n",
       "    .dataframe tbody tr th:only-of-type {\n",
       "        vertical-align: middle;\n",
       "    }\n",
       "\n",
       "    .dataframe tbody tr th {\n",
       "        vertical-align: top;\n",
       "    }\n",
       "\n",
       "    .dataframe thead th {\n",
       "        text-align: right;\n",
       "    }\n",
       "</style>\n",
       "<table border=\"1\" class=\"dataframe\">\n",
       "  <thead>\n",
       "    <tr style=\"text-align: right;\">\n",
       "      <th></th>\n",
       "      <th>Unnamed: 0</th>\n",
       "      <th>mapped_brand</th>\n",
       "      <th>mcc</th>\n",
       "      <th>merchant_string</th>\n",
       "      <th>network</th>\n",
       "      <th>mapped_brand_response</th>\n",
       "      <th>merchant_string1</th>\n",
       "      <th>probs</th>\n",
       "      <th>correct_flag</th>\n",
       "      <th>true_target</th>\n",
       "      <th>true_starbucks</th>\n",
       "      <th>true_mcdonalds</th>\n",
       "      <th>true_atm</th>\n",
       "      <th>predict_target</th>\n",
       "      <th>predict_starbucks</th>\n",
       "      <th>predict_mcdonalds</th>\n",
       "      <th>predict_atm</th>\n",
       "    </tr>\n",
       "  </thead>\n",
       "  <tbody>\n",
       "  </tbody>\n",
       "</table>\n",
       "</div>"
      ],
      "text/plain": [
       "Empty DataFrame\n",
       "Columns: [Unnamed: 0, mapped_brand, mcc, merchant_string, network, mapped_brand_response, merchant_string1, probs, correct_flag, true_target, true_starbucks, true_mcdonalds, true_atm, predict_target, predict_starbucks, predict_mcdonalds, predict_atm]\n",
       "Index: []"
      ]
     },
     "execution_count": 13,
     "metadata": {},
     "output_type": "execute_result"
    }
   ],
   "source": [
    "ML_output[(ML_output['mapped_brand'] == 'target') & (ML_output['mapped_brand_response'] != 'target')]"
   ]
  },
  {
   "cell_type": "code",
   "execution_count": 7,
   "metadata": {},
   "outputs": [
    {
     "name": "stdout",
     "output_type": "stream",
     "text": [
      "AUC 0.7\n",
      "AUC 0.9\n"
     ]
    },
    {
     "data": {
      "text/plain": [
       "Text(0.5,0,'False Positive Rate')"
      ]
     },
     "execution_count": 7,
     "metadata": {},
     "output_type": "execute_result"
    },
    {
     "data": {
      "image/png": "[encoded data removed]",
      "text/plain": [
       "<Figure size 432x288 with 1 Axes>"
      ]
     },
     "metadata": {},
     "output_type": "display_data"
    }
   ],
   "source": [
    "true_NB = NB_output['true_starbucks']\n",
    "# predicted_NB = NB_output['predict_starbucks']\n",
    "prob_NB = NB_output['Confidence']\n",
    "\n",
    "ROC_NB = roc_curve(true_NB, prob_NB)\n",
    "\n",
    "plt.plot(ROC_NB[0],ROC_NB[1], c='g',label='Naiive Bayes')\n",
    "plt.title('Starbucks ROC Curve for Logistic Regression')\n",
    "\n",
    "\n",
    "true_ML = ML_output['true_starbucks']\n",
    "# predicted_ML = ML_output['predict_starbucks']\n",
    "prob_ML = ML_output['probs']\n",
    "\n",
    "ROC_ML = roc_curve(true_ML, prob_ML)\n",
    "\n",
    "print('AUC %.1f' %(auc(ROC_NB[0], ROC_NB[1])))\n",
    "print('AUC %.1f' %(auc(ROC_ML[0], ROC_ML[1])))\n",
    "\n",
    "plt.plot(ROC_ML[0],ROC_ML[1], c='b',label='Multilogistic')\n",
    "plt.legend(loc=4)\n",
    "\n",
    "plt.title('Starbucks ROC Curve for Logistic Regression')\n",
    "plt.ylabel('True Positive Rate')\n",
    "plt.xlabel('False Positive Rate')"
   ]
  },
  {
   "cell_type": "code",
   "execution_count": 6,
   "metadata": {},
   "outputs": [
    {
     "name": "stdout",
     "output_type": "stream",
     "text": [
      "NB AUC 0.7\n",
      "ML AUC 0.8\n"
     ]
    },
    {
     "data": {
      "text/plain": [
       "Text(0.5,0,'False Positive Rate')"
      ]
     },
     "execution_count": 6,
     "metadata": {},
     "output_type": "execute_result"
    },
    {
     "data": {
      "image/png": "[encoded data removed]",
      "text/plain": [
       "<Figure size 432x288 with 1 Axes>"
      ]
     },
     "metadata": {},
     "output_type": "display_data"
    }
   ],
   "source": [
    "true_NB = NB_output['true_mcdonalds']\n",
    "# predicted_NB = NB_output['predict_mcdonalds']\n",
    "prob_NB = NB_output['Confidence']\n",
    "\n",
    "ROC_NB = roc_curve(true_NB, prob_NB)\n",
    "\n",
    "plt.plot(ROC_NB[0],ROC_NB[1], c='g',label='Naiive Bayes')\n",
    "\n",
    "true_ML = ML_output['true_mcdonalds']\n",
    "# predicted_ML = ML_output['predict_mcdonalds']\n",
    "prob_ML = ML_output['probs']\n",
    "\n",
    "ROC_ML = roc_curve(true_ML, prob_ML)\n",
    "\n",
    "print('NB AUC %.1f' %(auc(ROC_NB[0], ROC_NB[1])))\n",
    "print('ML AUC %.1f' %(auc(ROC_ML[0], ROC_ML[1])))\n",
    "\n",
    "plt.plot(ROC_ML[0],ROC_ML[1], c='b',label='Multilogistic')\n",
    "plt.legend(loc=4)\n",
    "\n",
    "plt.title('Mcdonalds ROC Curve for Logistic Regression')\n",
    "plt.ylabel('True Positive Rate')\n",
    "plt.xlabel('False Positive Rate')"
   ]
  },
  {
   "cell_type": "code",
   "execution_count": null,
   "metadata": {},
   "outputs": [],
   "source": [
    "ML_output.sample(4)"
   ]
  },
  {
   "cell_type": "code",
   "execution_count": null,
   "metadata": {},
   "outputs": [],
   "source": []
  }
 ],
 "metadata": {
  "kernelspec": {
   "display_name": "Python 3",
   "language": "python",
   "name": "python3"
  },
  "language_info": {
   "codemirror_mode": {
    "name": "ipython",
    "version": 3
   },
   "file_extension": ".py",
   "mimetype": "text/x-python",
   "name": "python",
   "nbconvert_exporter": "python",
   "pygments_lexer": "ipython3",
   "version": "3.6.5"
  }
 },
 "nbformat": 4,
 "nbformat_minor": 2
}
