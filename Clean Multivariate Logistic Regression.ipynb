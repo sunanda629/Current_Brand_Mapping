{
 "cells": [
  {
   "cell_type": "markdown",
   "metadata": {},
   "source": [
    "# Imports and Get Data"
   ]
  },
  {
   "cell_type": "code",
   "execution_count": 1,
   "metadata": {},
   "outputs": [],
   "source": [
    "import json\n",
    "import pandas as pd\n",
    "import re\n",
    "import random\n",
    "import numpy as np\n",
    "from sklearn.model_selection import train_test_split\n",
    "from collections import Counter\n",
    "#from sklearn.metrics import roc_curve, auc, roc_auc_score\n",
    "import sklearn.metrics # import confusion_matrix\n",
    "from sklearn.linear_model import LogisticRegression\n",
    "from sklearn.linear_model import LogisticRegressionCV\n",
    "import sklearn.model_selection as ms\n",
    "import matplotlib.pyplot as plt\n",
    "import seaborn as sns\n",
    "import time"
   ]
  },
  {
   "cell_type": "code",
   "execution_count": 2,
   "metadata": {},
   "outputs": [],
   "source": [
    "data = pd.read_json('merchantSwipeDump.json')"
   ]
  },
  {
   "cell_type": "code",
   "execution_count": 55,
   "metadata": {},
   "outputs": [
    {
     "data": {
      "text/html": [
       "<div>\n",
       "<style scoped>\n",
       "    .dataframe tbody tr th:only-of-type {\n",
       "        vertical-align: middle;\n",
       "    }\n",
       "\n",
       "    .dataframe tbody tr th {\n",
       "        vertical-align: top;\n",
       "    }\n",
       "\n",
       "    .dataframe thead th {\n",
       "        text-align: right;\n",
       "    }\n",
       "</style>\n",
       "<table border=\"1\" class=\"dataframe\">\n",
       "  <thead>\n",
       "    <tr style=\"text-align: right;\">\n",
       "      <th></th>\n",
       "      <th>mapped_brand</th>\n",
       "      <th>mcc</th>\n",
       "      <th>merchant_string</th>\n",
       "      <th>network</th>\n",
       "      <th>mapped_brand_response</th>\n",
       "      <th>merchant_string1</th>\n",
       "    </tr>\n",
       "  </thead>\n",
       "  <tbody>\n",
       "    <tr>\n",
       "      <th>124857</th>\n",
       "      <td>None</td>\n",
       "      <td>5541</td>\n",
       "      <td>kwik trip 298</td>\n",
       "      <td>V</td>\n",
       "      <td></td>\n",
       "      <td>[kwik, trip]</td>\n",
       "    </tr>\n",
       "    <tr>\n",
       "      <th>183961</th>\n",
       "      <td>None</td>\n",
       "      <td>5814</td>\n",
       "      <td>papa john's #02644</td>\n",
       "      <td>V</td>\n",
       "      <td></td>\n",
       "      <td>[papa, john's]</td>\n",
       "    </tr>\n",
       "    <tr>\n",
       "      <th>54055</th>\n",
       "      <td>None</td>\n",
       "      <td>5541</td>\n",
       "      <td>colvin oil i llc</td>\n",
       "      <td>V</td>\n",
       "      <td></td>\n",
       "      <td>[colvin, oil, i, llc]</td>\n",
       "    </tr>\n",
       "    <tr>\n",
       "      <th>98402</th>\n",
       "      <td>None</td>\n",
       "      <td>5814</td>\n",
       "      <td>jimmy johns - 1526</td>\n",
       "      <td>V</td>\n",
       "      <td></td>\n",
       "      <td>[jimmy, johns]</td>\n",
       "    </tr>\n",
       "    <tr>\n",
       "      <th>70290</th>\n",
       "      <td>None</td>\n",
       "      <td>5399</td>\n",
       "      <td>goodwill store #29</td>\n",
       "      <td>V</td>\n",
       "      <td></td>\n",
       "      <td>[goodwill]</td>\n",
       "    </tr>\n",
       "    <tr>\n",
       "      <th>293067</th>\n",
       "      <td>None</td>\n",
       "      <td>4121</td>\n",
       "      <td>uber   *eats hjiyo</td>\n",
       "      <td>V</td>\n",
       "      <td></td>\n",
       "      <td>[uber, *eats, hjiyo]</td>\n",
       "    </tr>\n",
       "    <tr>\n",
       "      <th>17732</th>\n",
       "      <td>None</td>\n",
       "      <td>5541</td>\n",
       "      <td>blues son grocery</td>\n",
       "      <td>V</td>\n",
       "      <td></td>\n",
       "      <td>[blues, son, grocery]</td>\n",
       "    </tr>\n",
       "    <tr>\n",
       "      <th>71627</th>\n",
       "      <td>None</td>\n",
       "      <td>5812</td>\n",
       "      <td>goma tei ramen ala mo</td>\n",
       "      <td>V</td>\n",
       "      <td></td>\n",
       "      <td>[goma, tei, ramen, ala, mo]</td>\n",
       "    </tr>\n",
       "    <tr>\n",
       "      <th>279985</th>\n",
       "      <td>None</td>\n",
       "      <td>5814</td>\n",
       "      <td>wendys #6541</td>\n",
       "      <td>V</td>\n",
       "      <td></td>\n",
       "      <td>[wendys]</td>\n",
       "    </tr>\n",
       "    <tr>\n",
       "      <th>68288</th>\n",
       "      <td>None</td>\n",
       "      <td>7993</td>\n",
       "      <td>gameflp*73-dstp</td>\n",
       "      <td>V</td>\n",
       "      <td></td>\n",
       "      <td>[gameflp*73, dstp]</td>\n",
       "    </tr>\n",
       "    <tr>\n",
       "      <th>312399</th>\n",
       "      <td>None</td>\n",
       "      <td>5999</td>\n",
       "      <td>urban beautique</td>\n",
       "      <td>V</td>\n",
       "      <td></td>\n",
       "      <td>[urban, beautique]</td>\n",
       "    </tr>\n",
       "    <tr>\n",
       "      <th>128470</th>\n",
       "      <td>None</td>\n",
       "      <td>5411</td>\n",
       "      <td>kroger    279 hubbards</td>\n",
       "      <td>D</td>\n",
       "      <td></td>\n",
       "      <td>[kroger, hubbards]</td>\n",
       "    </tr>\n",
       "    <tr>\n",
       "      <th>263263</th>\n",
       "      <td>None</td>\n",
       "      <td>NaN</td>\n",
       "      <td>target t- 6601 grand a gurnee         il</td>\n",
       "      <td>NaN</td>\n",
       "      <td></td>\n",
       "      <td>[target, t, grand, a, gurnee, il]</td>\n",
       "    </tr>\n",
       "    <tr>\n",
       "      <th>254010</th>\n",
       "      <td>None</td>\n",
       "      <td>5814</td>\n",
       "      <td>taco bell 32047</td>\n",
       "      <td>V</td>\n",
       "      <td></td>\n",
       "      <td>[taco, bell]</td>\n",
       "    </tr>\n",
       "    <tr>\n",
       "      <th>331924</th>\n",
       "      <td>cocacola</td>\n",
       "      <td>5814</td>\n",
       "      <td>coca cola portage</td>\n",
       "      <td>V</td>\n",
       "      <td></td>\n",
       "      <td>[coca, cola, portage]</td>\n",
       "    </tr>\n",
       "    <tr>\n",
       "      <th>159869</th>\n",
       "      <td>None</td>\n",
       "      <td>7996</td>\n",
       "      <td>nashville shores</td>\n",
       "      <td>V</td>\n",
       "      <td></td>\n",
       "      <td>[nashville, shores]</td>\n",
       "    </tr>\n",
       "    <tr>\n",
       "      <th>68263</th>\n",
       "      <td>None</td>\n",
       "      <td>7993</td>\n",
       "      <td>gameflp*46-okgh</td>\n",
       "      <td>V</td>\n",
       "      <td></td>\n",
       "      <td>[gameflp*46, okgh]</td>\n",
       "    </tr>\n",
       "    <tr>\n",
       "      <th>223979</th>\n",
       "      <td>None</td>\n",
       "      <td>5814</td>\n",
       "      <td>starbucks store 10161</td>\n",
       "      <td>V</td>\n",
       "      <td></td>\n",
       "      <td>[starbucks]</td>\n",
       "    </tr>\n",
       "    <tr>\n",
       "      <th>77899</th>\n",
       "      <td>None</td>\n",
       "      <td>5814</td>\n",
       "      <td>hardees 1646</td>\n",
       "      <td>V</td>\n",
       "      <td></td>\n",
       "      <td>[hardees]</td>\n",
       "    </tr>\n",
       "    <tr>\n",
       "      <th>98243</th>\n",
       "      <td>None</td>\n",
       "      <td>5541</td>\n",
       "      <td>jiffy 1556</td>\n",
       "      <td>D</td>\n",
       "      <td></td>\n",
       "      <td>[jiffy]</td>\n",
       "    </tr>\n",
       "  </tbody>\n",
       "</table>\n",
       "</div>"
      ],
      "text/plain": [
       "       mapped_brand   mcc                           merchant_string network  \\\n",
       "124857         None  5541                             kwik trip 298       V   \n",
       "183961         None  5814                        papa john's #02644       V   \n",
       "54055          None  5541                          colvin oil i llc       V   \n",
       "98402          None  5814                        jimmy johns - 1526       V   \n",
       "70290          None  5399                        goodwill store #29       V   \n",
       "293067         None  4121                        uber   *eats hjiyo       V   \n",
       "17732          None  5541                         blues son grocery       V   \n",
       "71627          None  5812                     goma tei ramen ala mo       V   \n",
       "279985         None  5814                              wendys #6541       V   \n",
       "68288          None  7993                           gameflp*73-dstp       V   \n",
       "312399         None  5999                           urban beautique       V   \n",
       "128470         None  5411                    kroger    279 hubbards       D   \n",
       "263263         None   NaN  target t- 6601 grand a gurnee         il     NaN   \n",
       "254010         None  5814                           taco bell 32047       V   \n",
       "331924     cocacola  5814                         coca cola portage       V   \n",
       "159869         None  7996                          nashville shores       V   \n",
       "68263          None  7993                           gameflp*46-okgh       V   \n",
       "223979         None  5814                     starbucks store 10161       V   \n",
       "77899          None  5814                              hardees 1646       V   \n",
       "98243          None  5541                                jiffy 1556       D   \n",
       "\n",
       "       mapped_brand_response                   merchant_string1  \n",
       "124857                                             [kwik, trip]  \n",
       "183961                                           [papa, john's]  \n",
       "54055                                     [colvin, oil, i, llc]  \n",
       "98402                                            [jimmy, johns]  \n",
       "70290                                                [goodwill]  \n",
       "293067                                     [uber, *eats, hjiyo]  \n",
       "17732                                     [blues, son, grocery]  \n",
       "71627                               [goma, tei, ramen, ala, mo]  \n",
       "279985                                                 [wendys]  \n",
       "68288                                        [gameflp*73, dstp]  \n",
       "312399                                       [urban, beautique]  \n",
       "128470                                       [kroger, hubbards]  \n",
       "263263                        [target, t, grand, a, gurnee, il]  \n",
       "254010                                             [taco, bell]  \n",
       "331924                                    [coca, cola, portage]  \n",
       "159869                                      [nashville, shores]  \n",
       "68263                                        [gameflp*46, okgh]  \n",
       "223979                                              [starbucks]  \n",
       "77899                                                 [hardees]  \n",
       "98243                                                   [jiffy]  "
      ]
     },
     "execution_count": 55,
     "metadata": {},
     "output_type": "execute_result"
    }
   ],
   "source": [
    "data.sample(20)"
   ]
  },
  {
   "cell_type": "markdown",
   "metadata": {},
   "source": [
    "# Cleaning Functions"
   ]
  },
  {
   "cell_type": "code",
   "execution_count": 3,
   "metadata": {},
   "outputs": [],
   "source": [
    "def preprocess(df):\n",
    "    ## Remove \".0\" from MCC column\n",
    "    df['mcc']=df['mcc'].apply(lambda x: str(x).strip(\".0\"))\n",
    "    ## Change mcc nan to NaN\n",
    "    df['mcc'] = np.where(df['mcc']=='nan', np.nan, df['mcc'])\n",
    "    df['merchant_string'] = df['merchant_string'].apply(lambda x: x.lower())"
   ]
  },
  {
   "cell_type": "code",
   "execution_count": 4,
   "metadata": {},
   "outputs": [],
   "source": [
    "## Map by MCC as well\n",
    "mcc_dict = {'6011': 'atm', '6010': 'atm', '7523':'parking'}\n",
    "\n",
    "def mcc_dict_funct(df, col_origin, col_output, mcc_dict):\n",
    "    for key, value in mcc_dict.items():\n",
    "            df[col_output] = np.where(df[col_origin]==key, value, df[col_output])"
   ]
  },
  {
   "cell_type": "code",
   "execution_count": 5,
   "metadata": {},
   "outputs": [],
   "source": [
    "def most_common_words(df, col):\n",
    "    # Turn merchant string into list and flatten list of sublists\n",
    "    words_merchant_string_2 = [elem for sublist in df[col].tolist() for elem in sublist]\n",
    "\n",
    "    # Get DataFrame of words with their count\n",
    "    wordcnt_df = pd.DataFrame.from_dict(dict(Counter(words_merchant_string_2)), orient='index')\\\n",
    "        .reset_index().rename(columns={\"index\": \"keyword\", 0: \"cnt\"})\\\n",
    "        .sort_values(by='cnt',ascending=False)\n",
    "    most_common_words = list(wordcnt_df['keyword'][0:1000])\n",
    "    most_common_words1 = [\"\\\\\" + x if x[0] == \"*\" else x for x in most_common_words]\n",
    "    return wordcnt_df, most_common_words, most_common_words1"
   ]
  },
  {
   "cell_type": "code",
   "execution_count": 6,
   "metadata": {},
   "outputs": [],
   "source": [
    "def dummify_data(df, most_common_words1):\n",
    "    for keyword in most_common_words1:\n",
    "        df[keyword] = np.where(df['merchant_string'].str.contains(keyword),1,0)"
   ]
  },
  {
   "cell_type": "markdown",
   "metadata": {},
   "source": [
    "# Clean and Prepare Data"
   ]
  },
  {
   "cell_type": "code",
   "execution_count": 7,
   "metadata": {},
   "outputs": [],
   "source": [
    "%run clean.py\n",
    "preprocess(data)\n",
    "data['mapped_brand_response'] = \"\"\n",
    "mcc_dict_funct(data, 'mcc', 'mapped_brand_response', mcc_dict)\n",
    "\n",
    "clean(data, old_col='merchant_string', col='merchant_string1',split_string=split_string,\n",
    "  remove_string = remove_string,lowercase=False, remove_empty_strings_bi=True,\n",
    "  join_mcc_bi=False,rejoin_col_strings_bi=False)\n",
    "\n",
    "wordcnt_df, most_common_words, most_common_words1 = most_common_words(data,'merchant_string1')\n",
    "\n",
    "data_dummified = data.copy()"
   ]
  },
  {
   "cell_type": "code",
   "execution_count": 8,
   "metadata": {},
   "outputs": [],
   "source": [
    "#list(pd.read_csv('most_common_words1.csv'))"
   ]
  },
  {
   "cell_type": "code",
   "execution_count": 9,
   "metadata": {},
   "outputs": [
    {
     "name": "stdout",
     "output_type": "stream",
     "text": [
      "--- 256.6143112182617 seconds ---\n"
     ]
    }
   ],
   "source": [
    "# Dummify data (on most common words in merchant string cleaned)\n",
    "start_time = time.time()\n",
    "dummify_data(data_dummified, most_common_words1)  \n",
    "\n",
    "# Dummify additional columns (mcc, network) and drop merchant string column\n",
    "data_dummified=pd.get_dummies(data_dummified, prefix=['mcc', 'network'], columns=['mcc', 'network'])\n",
    "\n",
    "#Delete merchant_string_columns\n",
    "del_cols = ['mapped_brand_response']\n",
    "for x in data_dummified.columns:\n",
    "    if bool(re.search('^merchant_string',x)):\n",
    "        del_cols.append(x)\n",
    "\n",
    "#data_dummified.columns.contain(del_cols), axis = 1)\n",
    "data_dummified =data_dummified.drop(del_cols, axis = 1)\n",
    "\n",
    "print(\"--- %s seconds ---\" % (time.time() - start_time))\n",
    "#takes about 7 mins (417 sec)"
   ]
  },
  {
   "cell_type": "code",
   "execution_count": 10,
   "metadata": {},
   "outputs": [],
   "source": [
    "#data_dummified.sample(20)"
   ]
  },
  {
   "cell_type": "code",
   "execution_count": 153,
   "metadata": {},
   "outputs": [],
   "source": [
    "data_cols = pd.DataFrame(list(data_dummified.columns))"
   ]
  },
  {
   "cell_type": "code",
   "execution_count": 154,
   "metadata": {},
   "outputs": [],
   "source": [
    "data_cols.to_csv('data_cols.csv')"
   ]
  },
  {
   "cell_type": "markdown",
   "metadata": {},
   "source": [
    "# Modelling Functions"
   ]
  },
  {
   "cell_type": "code",
   "execution_count": 11,
   "metadata": {},
   "outputs": [],
   "source": [
    "# Train/Test/Holdout\n",
    "def train_test_holdout(df):\n",
    "    # Train and Test from original full dfset\n",
    "    train_full = df[df.mapped_brand.notna()]\n",
    "    test = df[df.mapped_brand.isna()]\n",
    "\n",
    "    # Split into X and y for each set\n",
    "    X_train_full = train_full.drop('mapped_brand', axis=1)\n",
    "    y_train_full = train_full['mapped_brand']\n",
    "    X_test = test.drop('mapped_brand', axis=1)\n",
    "    y_test = test['mapped_brand']\n",
    "\n",
    "    # Train/Holdout split\n",
    "    X_train_wo_holdout, X_holdout, y_train_wo_holdout, y_holdout = train_test_split(\n",
    "         X_train_full, y_train_full, test_size=0.2, random_state=42)\n",
    "\n",
    "    # Combine X and Y columns for Holdout and Train wo Holdout\n",
    "#     holdout = train_full[train_full.index.isin(X_holdout.index.values)]\n",
    "#     train_wo_holdout = train_full[train_full.index.isin(X_train_wo_holdout.index.values)]\n",
    "    return X_train_full, y_train_full, X_test, y_test, X_train_wo_holdout, X_holdout, y_train_wo_holdout, y_holdout\n",
    "\n",
    "def multinomial_regression(X_train_wo_holdout, y_train_wo_holdout,X_holdout, y_holdout):\n",
    "    multinomial = LogisticRegression(multi_class='multinomial', random_state = 42, solver='lbfgs', C=1e5, class_weight = 'balanced') \n",
    "    multinomial.fit(X_train_wo_holdout, y_train_wo_holdout)\n",
    "    mapped_brand_proba = multinomial.predict_proba(X_holdout)\n",
    "    \n",
    "    probs = pd.DataFrame(mapped_brand_proba)\n",
    "    probs['max_prob'] = probs.max(axis = 1)\n",
    "    probs = probs['max_prob']\n",
    "    \n",
    "    mapped_brand_predicted = multinomial.predict(X_holdout)\n",
    "    \n",
    "    score = multinomial.score(X_holdout, y_holdout)\n",
    "    \n",
    "    mapped_brand_predicted1 = pd.DataFrame(mapped_brand_predicted)\n",
    "    \n",
    "    return multinomial, mapped_brand_proba, probs, mapped_brand_predicted, score, mapped_brand_predicted1\n",
    "\n",
    "def multinomial_output_train(df, mapped_brand_predicted1, probs):\n",
    "#    mapped_brand_predicted1 = pd.DataFrame(mapped_brand_predicted)\n",
    "    X_holdout1 = df.assign(mapped_brand_predicted1=mapped_brand_predicted1.values)[['mapped_brand_predicted1']]\n",
    "    X_holdout1 = X_holdout1.assign(probs = probs.values)\n",
    "    \n",
    "    output = data.join(X_holdout1, how = 'inner')\n",
    "    output['mcc'] = output['mcc'].fillna(-1)\n",
    "    output['network'] = output['network'].fillna(-1)\n",
    "    output['mapped_brand_response'] = np.where(output['mapped_brand_response']=='', output['mapped_brand_predicted1'], output['mapped_brand_response'])\n",
    "    #can add rule about replacing item in column when probability is above a certain threshold\n",
    "    output.drop('mapped_brand_predicted1',axis=1, inplace = True)\n",
    "    \n",
    "    # Add flag on whether mapped brand and predicted mapped brand are same\n",
    "    output['correct_flag'] = np.where(output['mapped_brand'] == output['mapped_brand_response'], 1, 0)\n",
    "\n",
    "    correct_overall = output.agg(['sum','count','mean'])[['correct_flag']]\n",
    "    \n",
    "    correct_by_brand = output.groupby('mapped_brand').agg(['sum','count','mean'])['correct_flag'].reset_index()\\\n",
    "    .sort_values(by='count',ascending=False)\\\n",
    "    .rename(columns={'sum':'nbr_correct', 'count':'nbr_records', 'mean':'pct_correct'})\n",
    "    \n",
    "    return output, correct_overall, correct_by_brand\n",
    "\n",
    "def multinomial_output_test(df, mapped_brand_predicted1, probs):\n",
    "#    mapped_brand_predicted1 = pd.DataFrame(mapped_brand_predicted)\n",
    "    X_holdout1 = df.assign(mapped_brand_predicted1=mapped_brand_predicted1.values)[['mapped_brand_predicted1']]\n",
    "    X_holdout1 = X_holdout1.assign(probs = probs.values)\n",
    "    \n",
    "    output = data.join(X_holdout1, how = 'inner')\n",
    "    output['mcc'] = output['mcc'].fillna(-1)\n",
    "    output['network'] = output['network'].fillna(-1)\n",
    "    output['mapped_brand_response'] = np.where(output['mapped_brand_response']=='', output['mapped_brand_predicted1'], output['mapped_brand_response'])\n",
    "    #can add rule about replacing item in column when probability is above a certain threshold\n",
    "    output.drop('mapped_brand_predicted1',axis=1, inplace = True)\n",
    "    \n",
    "    # Add flag on whether mapped brand and predicted mapped brand are same\n",
    "    output['correct_flag'] = np.where(output['mapped_brand'] == output['mapped_brand_response'], 1, 0)\n",
    "    \n",
    "    return output\n",
    "\n",
    "\n",
    "mapping_dict = {'vend': 'vendingmachine', #'usa': 'vendingmachine',\n",
    "                'wal-mart': 'walmart', 'walmart': 'walmart', 'wm supercenter': 'walmart',\n",
    "                'uber ': 'uber', # or ubereats\n",
    "                'paypal': 'paypal',\n",
    "                \"mcdonald's\": 'mcdonalds', 'mcdonalds': 'mcdonalds',\n",
    "                'target t-': 'target', 'target.com': 'target',\n",
    "                'cvs/pharm': 'cvs',\n",
    "                'walgreens': 'walgreens',\n",
    "                'starbucks': 'starbucks', \n",
    "                'chick-fil-a': 'chickfila',\n",
    "                'gamestop': 'gamestop', \n",
    "                'google \\*': 'googleplay', # or google,\n",
    "                'kroger': 'kroger',\n",
    "                'chipotle': 'chipotle',\n",
    "                'apl\\* itunes.com/bill': 'appleitunes', # needs a \\ before *\n",
    "                'dunkin': 'dunkindonuts',\n",
    "                'amazon': 'amazon',\n",
    "                'lyft': 'lyft',\n",
    "                '7-eleven': 'seveneleven', '7 eleven': 'seveneleven',\n",
    "                \"victoria's secret\": 'victoriassecret', 'victoriassecret.com':'victoriassecret',\n",
    "                'etsy.com': 'etsy', 'etsy': 'etsy',\n",
    "                'duane reade': 'duanereade',\n",
    "                'taco bell': 'tacobell',\n",
    "                'dollar-general': 'dollargeneral', 'dollar general': 'dollargeneral', 'dollar ge': 'dollargeneral',\n",
    "                \"wendy's\": 'wendys', 'wendys': 'wendys',\n",
    "                'amc ': 'amc',\n",
    "                'safeway store': 'safeway', 'safeway': 'safeway',\n",
    "                'panera bread': 'panerabread',\n",
    "                'subway restaurant': 'subway',\n",
    "                'sonic': 'sonic',\n",
    "                'rite aid store': 'riteaidpharmacy',\n",
    "                'chevron/': 'chevron',\n",
    "                'forever 21': 'forever21',\n",
    "                'dollar tr': 'dollartree',\n",
    "                \"claire's\": 'claires',\n",
    "                'dairy queen': 'dairyqueen',\n",
    "                \"sq \\*tomy's\": 'tomys', # needs a \\ before *\n",
    "                'qt ': 'quiktrip',\n",
    "                'microsoft ': 'microsoft',\n",
    "                'ulta.com': 'ultabeauty', 'ulta #': 'ultabeauty',\n",
    "                'playstation network': 'playstation',\n",
    "                'barnes an': 'barnesandnoble', 'barnes & noble': 'barnesandnoble', 'barnesnob': 'barnesandnoble',\n",
    "                'burger king': 'burgerking',\n",
    "                'riotgam\\*': 'riotgames',\n",
    "                'michaels stores': 'michaels',\n",
    "                'sephora': 'sephora',\n",
    "                'five guys': 'fiveguys', '5guys': 'fiveguys',\n",
    "                'five below': 'fivebelow',\n",
    "                'bath and body works': 'bathandbodyworks', 'bath & body works' : 'bathandbodyworks',\n",
    "                'shake shack': 'shakeshack',\n",
    "                'chopt': 'chopt',\n",
    "                'urban-out': 'urbanoutfitters', 'urban out': 'urbanoutfitters',\n",
    "                \"domino's\": 'dominos',\n",
    "                'regal cinemas': 'regalcinemas', 'edwards':'regalcinemas',\n",
    "                'circle k': 'circlek',\n",
    "                'sweetgreen': 'sweetgreen',\n",
    "                'wholefds': 'wholefoods',\n",
    "                'coca cola': 'cocacola', 'coca-cola': 'cocacola',\n",
    "                'nyctaxi': 'nyctaxi', 'nyc taxi': 'nyctaxi',\n",
    "                'shell': 'shell',\n",
    "                'pacsun': 'pacsun',\n",
    "                'tjmaxx': 'tjmaxx', 't j maxx': 'tjmaxx', 'tj maxx': 'tjmaxx',\n",
    "                'toys r us': 'toysrus',\n",
    "                'lush us': 'lush', 'lush upper west': 'lush',\n",
    "                'best buy': 'bestbuy',\n",
    "                'steamgames.com': 'steam',\n",
    "                'jamba juice': 'jambajuice',\n",
    "                'jimmy johns': 'jimmyjohns'\n",
    "               }\n",
    "def mapping_dict_funct(df, col_origin, col_output, mapping_dict):\n",
    "    for key, value in mapping_dict.items():\n",
    "        df[col_output] = np.where(df[col_origin].str.contains(key), value, df[col_output])"
   ]
  },
  {
   "cell_type": "markdown",
   "metadata": {},
   "source": [
    "# Modelling on Train"
   ]
  },
  {
   "cell_type": "code",
   "execution_count": 12,
   "metadata": {},
   "outputs": [],
   "source": [
    "data_dummified3 = data_dummified[(data_dummified['mcc_6011'] != 1)]\n",
    "data_dummified4 = data_dummified3[(data_dummified3['mcc_7523'] != 1)]\n",
    "#data_dummified2.drop(['mcc_6011', 'mcc_7523'], axis = 1, inplace = True)"
   ]
  },
  {
   "cell_type": "code",
   "execution_count": 13,
   "metadata": {},
   "outputs": [
    {
     "name": "stdout",
     "output_type": "stream",
     "text": [
      "CPU times: user 3.21 s, sys: 7.11 s, total: 10.3 s\n",
      "Wall time: 12.9 s\n"
     ]
    }
   ],
   "source": [
    "%%time\n",
    "# Test/Train/Holdout split, saving off each df returned\n",
    "X_train_full, y_train_full, X_test, y_test, X_train_wo_holdout, X_holdout, y_train_wo_holdout, y_holdout = \\\n",
    "train_test_holdout(data_dummified4) \n",
    "\n",
    "# can add input parameter for 80/20 split\n",
    "#takes about 14 seconds to run"
   ]
  },
  {
   "cell_type": "code",
   "execution_count": 14,
   "metadata": {},
   "outputs": [
    {
     "name": "stdout",
     "output_type": "stream",
     "text": [
      "CPU times: user 1min 25s, sys: 4.63 s, total: 1min 29s\n",
      "Wall time: 46.4 s\n"
     ]
    }
   ],
   "source": [
    "%%time\n",
    "multinomial_train, mapped_brand_proba_train, probs_train, mapped_brand_predicted_train, score_train, mapped_brand_predicted1_train = multinomial_regression(X_train_wo_holdout, y_train_wo_holdout, X_holdout, y_holdout)"
   ]
  },
  {
   "cell_type": "code",
   "execution_count": 15,
   "metadata": {},
   "outputs": [
    {
     "data": {
      "text/plain": [
       "0.9525831564048125"
      ]
     },
     "execution_count": 15,
     "metadata": {},
     "output_type": "execute_result"
    }
   ],
   "source": [
    "score_train"
   ]
  },
  {
   "cell_type": "code",
   "execution_count": 16,
   "metadata": {},
   "outputs": [],
   "source": [
    "output, correct_overall, correct_by_brand = multinomial_output_train(X_holdout, mapped_brand_predicted1_train, probs_train)"
   ]
  },
  {
   "cell_type": "code",
   "execution_count": 18,
   "metadata": {},
   "outputs": [
    {
     "data": {
      "text/html": [
       "<div>\n",
       "<style scoped>\n",
       "    .dataframe tbody tr th:only-of-type {\n",
       "        vertical-align: middle;\n",
       "    }\n",
       "\n",
       "    .dataframe tbody tr th {\n",
       "        vertical-align: top;\n",
       "    }\n",
       "\n",
       "    .dataframe thead th {\n",
       "        text-align: right;\n",
       "    }\n",
       "</style>\n",
       "<table border=\"1\" class=\"dataframe\">\n",
       "  <thead>\n",
       "    <tr style=\"text-align: right;\">\n",
       "      <th></th>\n",
       "      <th>mapped_brand</th>\n",
       "      <th>mcc</th>\n",
       "      <th>merchant_string</th>\n",
       "      <th>network</th>\n",
       "      <th>mapped_brand_response</th>\n",
       "      <th>merchant_string1</th>\n",
       "      <th>probs</th>\n",
       "      <th>correct_flag</th>\n",
       "    </tr>\n",
       "  </thead>\n",
       "  <tbody>\n",
       "    <tr>\n",
       "      <th>314731</th>\n",
       "      <td>starbucks</td>\n",
       "      <td>5814</td>\n",
       "      <td>starbucks store 17000</td>\n",
       "      <td>V</td>\n",
       "      <td>starbucks</td>\n",
       "      <td>[starbucks]</td>\n",
       "      <td>1.0</td>\n",
       "      <td>1</td>\n",
       "    </tr>\n",
       "    <tr>\n",
       "      <th>314734</th>\n",
       "      <td>starbucks</td>\n",
       "      <td>5814</td>\n",
       "      <td>starbucks store 00885</td>\n",
       "      <td>V</td>\n",
       "      <td>starbucks</td>\n",
       "      <td>[starbucks]</td>\n",
       "      <td>1.0</td>\n",
       "      <td>1</td>\n",
       "    </tr>\n",
       "    <tr>\n",
       "      <th>314737</th>\n",
       "      <td>starbucks</td>\n",
       "      <td>5814</td>\n",
       "      <td>starbucks store 47931</td>\n",
       "      <td>V</td>\n",
       "      <td>starbucks</td>\n",
       "      <td>[starbucks]</td>\n",
       "      <td>1.0</td>\n",
       "      <td>1</td>\n",
       "    </tr>\n",
       "    <tr>\n",
       "      <th>314748</th>\n",
       "      <td>starbucks</td>\n",
       "      <td>5814</td>\n",
       "      <td>starbucks store 29856</td>\n",
       "      <td>V</td>\n",
       "      <td>starbucks</td>\n",
       "      <td>[starbucks]</td>\n",
       "      <td>1.0</td>\n",
       "      <td>1</td>\n",
       "    </tr>\n",
       "    <tr>\n",
       "      <th>314750</th>\n",
       "      <td>starbucks</td>\n",
       "      <td>5814</td>\n",
       "      <td>starbucks store 21929</td>\n",
       "      <td>V</td>\n",
       "      <td>starbucks</td>\n",
       "      <td>[starbucks]</td>\n",
       "      <td>1.0</td>\n",
       "      <td>1</td>\n",
       "    </tr>\n",
       "  </tbody>\n",
       "</table>\n",
       "</div>"
      ],
      "text/plain": [
       "       mapped_brand   mcc        merchant_string network  \\\n",
       "314731    starbucks  5814  starbucks store 17000       V   \n",
       "314734    starbucks  5814  starbucks store 00885       V   \n",
       "314737    starbucks  5814  starbucks store 47931       V   \n",
       "314748    starbucks  5814  starbucks store 29856       V   \n",
       "314750    starbucks  5814  starbucks store 21929       V   \n",
       "\n",
       "       mapped_brand_response merchant_string1  probs  correct_flag  \n",
       "314731             starbucks      [starbucks]    1.0             1  \n",
       "314734             starbucks      [starbucks]    1.0             1  \n",
       "314737             starbucks      [starbucks]    1.0             1  \n",
       "314748             starbucks      [starbucks]    1.0             1  \n",
       "314750             starbucks      [starbucks]    1.0             1  "
      ]
     },
     "execution_count": 18,
     "metadata": {},
     "output_type": "execute_result"
    }
   ],
   "source": [
    "output.head(5)"
   ]
  },
  {
   "cell_type": "code",
   "execution_count": 18,
   "metadata": {},
   "outputs": [
    {
     "ename": "NameError",
     "evalue": "name 'output' is not defined",
     "output_type": "error",
     "traceback": [
      "\u001b[0;31m---------------------------------------------------------------------------\u001b[0m",
      "\u001b[0;31mNameError\u001b[0m                                 Traceback (most recent call last)",
      "\u001b[0;32m<ipython-input-18-ab6f1309c0e2>\u001b[0m in \u001b[0;36m<module>\u001b[0;34m()\u001b[0m\n\u001b[0;32m----> 1\u001b[0;31m \u001b[0mlen\u001b[0m\u001b[0;34m(\u001b[0m\u001b[0moutput\u001b[0m\u001b[0;34m[\u001b[0m\u001b[0;34m(\u001b[0m\u001b[0moutput\u001b[0m\u001b[0;34m[\u001b[0m\u001b[0;34m'correct_flag'\u001b[0m\u001b[0;34m]\u001b[0m \u001b[0;34m==\u001b[0m \u001b[0;36m1\u001b[0m\u001b[0;34m)\u001b[0m \u001b[0;34m&\u001b[0m            \u001b[0;34m(\u001b[0m\u001b[0moutput\u001b[0m\u001b[0;34m[\u001b[0m\u001b[0;34m'mcc'\u001b[0m\u001b[0;34m]\u001b[0m \u001b[0;34m!=\u001b[0m\u001b[0;34m'6011'\u001b[0m\u001b[0;34m)\u001b[0m \u001b[0;34m&\u001b[0m            \u001b[0;34m(\u001b[0m\u001b[0moutput\u001b[0m\u001b[0;34m[\u001b[0m\u001b[0;34m'mcc'\u001b[0m\u001b[0;34m]\u001b[0m \u001b[0;34m!=\u001b[0m\u001b[0;34m'7523'\u001b[0m\u001b[0;34m)\u001b[0m\u001b[0;34m]\u001b[0m\u001b[0;34m)\u001b[0m\u001b[0;34m/\u001b[0m\u001b[0mlen\u001b[0m\u001b[0;34m(\u001b[0m\u001b[0moutput\u001b[0m\u001b[0;34m[\u001b[0m\u001b[0;34m(\u001b[0m\u001b[0moutput\u001b[0m\u001b[0;34m[\u001b[0m\u001b[0;34m'mcc'\u001b[0m\u001b[0;34m]\u001b[0m \u001b[0;34m!=\u001b[0m\u001b[0;34m'6011'\u001b[0m\u001b[0;34m)\u001b[0m \u001b[0;34m&\u001b[0m \u001b[0;34m(\u001b[0m\u001b[0moutput\u001b[0m\u001b[0;34m[\u001b[0m\u001b[0;34m'mcc'\u001b[0m\u001b[0;34m]\u001b[0m \u001b[0;34m!=\u001b[0m\u001b[0;34m'7523'\u001b[0m\u001b[0;34m)\u001b[0m\u001b[0;34m]\u001b[0m\u001b[0;34m)\u001b[0m\u001b[0;34m\u001b[0m\u001b[0m\n\u001b[0m",
      "\u001b[0;31mNameError\u001b[0m: name 'output' is not defined"
     ]
    }
   ],
   "source": [
    "len(output[(output['correct_flag'] == 1) & \\\n",
    "           (output['mcc'] !='6011') & \\\n",
    "           (output['mcc'] !='7523')])/len(output[(output['mcc'] !='6011') & (output['mcc'] !='7523')])"
   ]
  },
  {
   "cell_type": "markdown",
   "metadata": {},
   "source": [
    "# Prepare Data for Testing"
   ]
  },
  {
   "cell_type": "code",
   "execution_count": 26,
   "metadata": {},
   "outputs": [
    {
     "data": {
      "text/html": [
       "<div>\n",
       "<style scoped>\n",
       "    .dataframe tbody tr th:only-of-type {\n",
       "        vertical-align: middle;\n",
       "    }\n",
       "\n",
       "    .dataframe tbody tr th {\n",
       "        vertical-align: top;\n",
       "    }\n",
       "\n",
       "    .dataframe thead th {\n",
       "        text-align: right;\n",
       "    }\n",
       "</style>\n",
       "<table border=\"1\" class=\"dataframe\">\n",
       "  <thead>\n",
       "    <tr style=\"text-align: right;\">\n",
       "      <th></th>\n",
       "      <th>mapped_brand</th>\n",
       "      <th>mcc</th>\n",
       "      <th>merchant_string</th>\n",
       "      <th>network</th>\n",
       "      <th>mapped_brand_response</th>\n",
       "      <th>merchant_string1</th>\n",
       "      <th>merchant_string_dict</th>\n",
       "      <th>mapped_brand_dict_3</th>\n",
       "    </tr>\n",
       "  </thead>\n",
       "  <tbody>\n",
       "    <tr>\n",
       "      <th>192326</th>\n",
       "      <td>None</td>\n",
       "      <td>5941</td>\n",
       "      <td>paypal *unlimitedwa</td>\n",
       "      <td>V</td>\n",
       "      <td></td>\n",
       "      <td>[paypal, *unlimitedwa]</td>\n",
       "      <td>paypal *unlimitedwa</td>\n",
       "      <td>paypal</td>\n",
       "    </tr>\n",
       "    <tr>\n",
       "      <th>212291</th>\n",
       "      <td>None</td>\n",
       "      <td>8661</td>\n",
       "      <td>sq *bigstuf ministries</td>\n",
       "      <td>V</td>\n",
       "      <td></td>\n",
       "      <td>[sq, *bigstuf, ministries]</td>\n",
       "      <td>sq *bigstuf ministries</td>\n",
       "      <td></td>\n",
       "    </tr>\n",
       "    <tr>\n",
       "      <th>165249</th>\n",
       "      <td>None</td>\n",
       "      <td>5812</td>\n",
       "      <td>ota-ya japanese restau</td>\n",
       "      <td>V</td>\n",
       "      <td></td>\n",
       "      <td>[ota, ya, japanese, restau]</td>\n",
       "      <td>ota-ya japanese restau</td>\n",
       "      <td></td>\n",
       "    </tr>\n",
       "    <tr>\n",
       "      <th>234800</th>\n",
       "      <td>None</td>\n",
       "      <td>5814</td>\n",
       "      <td>starbucks store 18624</td>\n",
       "      <td>V</td>\n",
       "      <td></td>\n",
       "      <td>[starbucks]</td>\n",
       "      <td>starbucks store 18624</td>\n",
       "      <td>starbucks</td>\n",
       "    </tr>\n",
       "    <tr>\n",
       "      <th>114366</th>\n",
       "      <td>None</td>\n",
       "      <td>5309</td>\n",
       "      <td>duty free stores - kah</td>\n",
       "      <td>V</td>\n",
       "      <td></td>\n",
       "      <td>[duty, free, stores, kah]</td>\n",
       "      <td>duty free stores - kah</td>\n",
       "      <td></td>\n",
       "    </tr>\n",
       "  </tbody>\n",
       "</table>\n",
       "</div>"
      ],
      "text/plain": [
       "       mapped_brand   mcc         merchant_string network  \\\n",
       "192326         None  5941     paypal *unlimitedwa       V   \n",
       "212291         None  8661  sq *bigstuf ministries       V   \n",
       "165249         None  5812  ota-ya japanese restau       V   \n",
       "234800         None  5814   starbucks store 18624       V   \n",
       "114366         None  5309  duty free stores - kah       V   \n",
       "\n",
       "       mapped_brand_response             merchant_string1  \\\n",
       "192326                             [paypal, *unlimitedwa]   \n",
       "212291                         [sq, *bigstuf, ministries]   \n",
       "165249                        [ota, ya, japanese, restau]   \n",
       "234800                                        [starbucks]   \n",
       "114366                          [duty, free, stores, kah]   \n",
       "\n",
       "          merchant_string_dict mapped_brand_dict_3  \n",
       "192326     paypal *unlimitedwa              paypal  \n",
       "212291  sq *bigstuf ministries                      \n",
       "165249  ota-ya japanese restau                      \n",
       "234800   starbucks store 18624           starbucks  \n",
       "114366  duty free stores - kah                      "
      ]
     },
     "execution_count": 26,
     "metadata": {},
     "output_type": "execute_result"
    }
   ],
   "source": [
    "testing_data_dummified = data.copy()\n",
    "new_merchant_col(testing_data_dummified, 'merchant_string', 'merchant_string_dict') # so not cleaned\n",
    "testing_data_dummified['mapped_brand_dict_3'] = ''\n",
    "mapping_dict_funct(testing_data_dummified, 'merchant_string_dict', 'mapped_brand_dict_3', mapping_dict)\n",
    "mcc_dict_funct(testing_data_dummified, 'mcc', 'mapped_brand_dict_3', mcc_dict)\n",
    "testing_data_dummified.sample(5)"
   ]
  },
  {
   "cell_type": "code",
   "execution_count": 28,
   "metadata": {},
   "outputs": [
    {
     "name": "stdout",
     "output_type": "stream",
     "text": [
      "--- 227.99500179290771 seconds ---\n"
     ]
    }
   ],
   "source": [
    "# Dummify data (on most common words in merchant string cleaned)\n",
    "start_time = time.time()\n",
    "dummify_data(testing_data_dummified, most_common_words1)  \n",
    "\n",
    "# Dummify additional columns (mcc, network) and drop merchant string column\n",
    "testing_data_dummified=pd.get_dummies(testing_data_dummified, prefix=['mcc', 'network'], columns=['mcc', 'network'])\n",
    "\n",
    "print(\"--- %s seconds ---\" % (time.time() - start_time))\n",
    "#takes about 7 mins (417 sec)"
   ]
  },
  {
   "cell_type": "code",
   "execution_count": 46,
   "metadata": {},
   "outputs": [
    {
     "data": {
      "text/plain": [
       "334836"
      ]
     },
     "execution_count": 46,
     "metadata": {},
     "output_type": "execute_result"
    }
   ],
   "source": [
    "len(testing_data_dummified['mapped_brand'])"
   ]
  },
  {
   "cell_type": "code",
   "execution_count": 47,
   "metadata": {},
   "outputs": [],
   "source": [
    "testing_data_dummified['mapped_brand_response'] = \\\n",
    "[testing_data_dummified['mapped_brand'][i] if testing_data_dummified['mapped_brand'][i] != None \\\n",
    "else testing_data_dummified['mapped_brand_dict_3'][i] \\\n",
    "for i in range(len(testing_data_dummified))]"
   ]
  },
  {
   "cell_type": "code",
   "execution_count": 51,
   "metadata": {},
   "outputs": [
    {
     "data": {
      "text/html": [
       "<div>\n",
       "<style scoped>\n",
       "    .dataframe tbody tr th:only-of-type {\n",
       "        vertical-align: middle;\n",
       "    }\n",
       "\n",
       "    .dataframe tbody tr th {\n",
       "        vertical-align: top;\n",
       "    }\n",
       "\n",
       "    .dataframe thead th {\n",
       "        text-align: right;\n",
       "    }\n",
       "</style>\n",
       "<table border=\"1\" class=\"dataframe\">\n",
       "  <thead>\n",
       "    <tr style=\"text-align: right;\">\n",
       "      <th></th>\n",
       "      <th>mapped_brand</th>\n",
       "      <th>merchant_string</th>\n",
       "      <th>mapped_brand_response</th>\n",
       "      <th>merchant_string1</th>\n",
       "      <th>merchant_string_dict</th>\n",
       "      <th>mapped_brand_dict_3</th>\n",
       "      <th>uber</th>\n",
       "      <th>\\*trip</th>\n",
       "      <th>sq</th>\n",
       "      <th>paypal</th>\n",
       "      <th>...</th>\n",
       "      <th>mcc_8931</th>\n",
       "      <th>mcc_8999</th>\n",
       "      <th>mcc_9211</th>\n",
       "      <th>mcc_9222</th>\n",
       "      <th>mcc_9311</th>\n",
       "      <th>mcc_9399</th>\n",
       "      <th>mcc_9402</th>\n",
       "      <th>mcc_9405</th>\n",
       "      <th>network_D</th>\n",
       "      <th>network_V</th>\n",
       "    </tr>\n",
       "  </thead>\n",
       "  <tbody>\n",
       "    <tr>\n",
       "      <th>218853</th>\n",
       "      <td>None</td>\n",
       "      <td>sp dogwood skate sho</td>\n",
       "      <td></td>\n",
       "      <td>[sp, dogwood, skate, sho]</td>\n",
       "      <td>sp dogwood skate sho</td>\n",
       "      <td></td>\n",
       "      <td>0</td>\n",
       "      <td>0</td>\n",
       "      <td>0</td>\n",
       "      <td>0</td>\n",
       "      <td>...</td>\n",
       "      <td>0</td>\n",
       "      <td>0</td>\n",
       "      <td>0</td>\n",
       "      <td>0</td>\n",
       "      <td>0</td>\n",
       "      <td>0</td>\n",
       "      <td>0</td>\n",
       "      <td>0</td>\n",
       "      <td>0</td>\n",
       "      <td>0</td>\n",
       "    </tr>\n",
       "    <tr>\n",
       "      <th>244656</th>\n",
       "      <td>None</td>\n",
       "      <td>sq *heidi wiegert-duch</td>\n",
       "      <td></td>\n",
       "      <td>[sq, *heidi, wiegert, duch]</td>\n",
       "      <td>sq *heidi wiegert-duch</td>\n",
       "      <td></td>\n",
       "      <td>0</td>\n",
       "      <td>0</td>\n",
       "      <td>1</td>\n",
       "      <td>0</td>\n",
       "      <td>...</td>\n",
       "      <td>0</td>\n",
       "      <td>0</td>\n",
       "      <td>0</td>\n",
       "      <td>0</td>\n",
       "      <td>0</td>\n",
       "      <td>0</td>\n",
       "      <td>0</td>\n",
       "      <td>0</td>\n",
       "      <td>0</td>\n",
       "      <td>0</td>\n",
       "    </tr>\n",
       "    <tr>\n",
       "      <th>52088</th>\n",
       "      <td>None</td>\n",
       "      <td>checkers truck</td>\n",
       "      <td></td>\n",
       "      <td>[checkers, truck]</td>\n",
       "      <td>checkers truck</td>\n",
       "      <td></td>\n",
       "      <td>0</td>\n",
       "      <td>0</td>\n",
       "      <td>0</td>\n",
       "      <td>0</td>\n",
       "      <td>...</td>\n",
       "      <td>0</td>\n",
       "      <td>0</td>\n",
       "      <td>0</td>\n",
       "      <td>0</td>\n",
       "      <td>0</td>\n",
       "      <td>0</td>\n",
       "      <td>0</td>\n",
       "      <td>0</td>\n",
       "      <td>1</td>\n",
       "      <td>0</td>\n",
       "    </tr>\n",
       "  </tbody>\n",
       "</table>\n",
       "<p>3 rows × 1362 columns</p>\n",
       "</div>"
      ],
      "text/plain": [
       "       mapped_brand         merchant_string mapped_brand_response  \\\n",
       "218853         None    sp dogwood skate sho                         \n",
       "244656         None  sq *heidi wiegert-duch                         \n",
       "52088          None          checkers truck                         \n",
       "\n",
       "                   merchant_string1    merchant_string_dict  \\\n",
       "218853    [sp, dogwood, skate, sho]    sp dogwood skate sho   \n",
       "244656  [sq, *heidi, wiegert, duch]  sq *heidi wiegert-duch   \n",
       "52088             [checkers, truck]          checkers truck   \n",
       "\n",
       "       mapped_brand_dict_3  uber  \\*trip  sq  paypal    ...      mcc_8931  \\\n",
       "218853                         0       0   0       0    ...             0   \n",
       "244656                         0       0   1       0    ...             0   \n",
       "52088                          0       0   0       0    ...             0   \n",
       "\n",
       "        mcc_8999  mcc_9211  mcc_9222  mcc_9311  mcc_9399  mcc_9402  mcc_9405  \\\n",
       "218853         0         0         0         0         0         0         0   \n",
       "244656         0         0         0         0         0         0         0   \n",
       "52088          0         0         0         0         0         0         0   \n",
       "\n",
       "        network_D  network_V  \n",
       "218853          0          0  \n",
       "244656          0          0  \n",
       "52088           1          0  \n",
       "\n",
       "[3 rows x 1362 columns]"
      ]
     },
     "execution_count": 51,
     "metadata": {},
     "output_type": "execute_result"
    }
   ],
   "source": [
    "testing_data_dummified.sample(3)"
   ]
  },
  {
   "cell_type": "code",
   "execution_count": 52,
   "metadata": {},
   "outputs": [],
   "source": [
    "testing_data_dummified1 = testing_data_dummified.drop(['mapped_brand', 'merchant_string','merchant_string1', 'merchant_string_dict', 'mapped_brand_dict_3'], axis=1)"
   ]
  },
  {
   "cell_type": "code",
   "execution_count": 54,
   "metadata": {},
   "outputs": [],
   "source": [
    "testing_data_dummified2 = testing_data_dummified1[(testing_data_dummified1['mcc_6011'] != 1)]\n",
    "testing_data_dummified3 = testing_data_dummified2[(testing_data_dummified2['mcc_7523'] != 1)]"
   ]
  },
  {
   "cell_type": "code",
   "execution_count": null,
   "metadata": {},
   "outputs": [],
   "source": [
    "train_full = df[df.mapped_brand_response.notna()]\n",
    "test = df[df.mapped_brand_response.isna()]\n",
    "\n",
    "X_train_full1 = train_full.drop('mapped_brand_response', axis=1)\n",
    "y_train_full1 = train_full['mapped_brand_response']\n",
    "X_test1 = test.drop('mapped_brand_response', axis=1)\n",
    "y_test1 = test['mapped_brand_response']\n",
    "    X_train_wo_holdout, X_holdout, y_train_wo_holdout, y_holdout = train_test_split(\n",
    "         X_train_full, y_train_full, test_size=0.2, random_state=42)"
   ]
  },
  {
   "cell_type": "markdown",
   "metadata": {},
   "source": [
    "# Modelling on Test"
   ]
  },
  {
   "cell_type": "code",
   "execution_count": 16,
   "metadata": {},
   "outputs": [
    {
     "name": "stderr",
     "output_type": "stream",
     "text": [
      "/anaconda3/lib/python3.6/site-packages/pandas/core/generic.py:5430: SettingWithCopyWarning: \n",
      "A value is trying to be set on a copy of a slice from a DataFrame\n",
      "\n",
      "See the caveats in the documentation: http://pandas.pydata.org/pandas-docs/stable/indexing.html#indexing-view-versus-copy\n",
      "  self._update_inplace(new_data)\n"
     ]
    },
    {
     "name": "stdout",
     "output_type": "stream",
     "text": [
      "CPU times: user 2min 50s, sys: 59.4 s, total: 3min 50s\n",
      "Wall time: 2min 34s\n"
     ]
    }
   ],
   "source": [
    "%%time\n",
    "#THIS TAKES ABOUT 8 MINS TO RUN\n",
    "y_test1 = y_test.fillna(\"Unknown\")\n",
    "#testing model on test using full train set\n",
    "multinomial, mapped_brand_proba, probs, mapped_brand_predicted, score, mapped_brand_predicted1 = multinomial_regression(X_train_full, y_train_full, X_test, y_test1)"
   ]
  },
  {
   "cell_type": "code",
   "execution_count": 20,
   "metadata": {},
   "outputs": [
    {
     "data": {
      "text/plain": [
       "0.0"
      ]
     },
     "execution_count": 20,
     "metadata": {},
     "output_type": "execute_result"
    }
   ],
   "source": [
    "multinomial.score(X_test, y_test)"
   ]
  },
  {
   "cell_type": "code",
   "execution_count": 55,
   "metadata": {},
   "outputs": [
    {
     "name": "stdout",
     "output_type": "stream",
     "text": [
      "CPU times: user 2.02 s, sys: 5.13 s, total: 7.15 s\n",
      "Wall time: 6.11 s\n"
     ]
    }
   ],
   "source": [
    "%%time\n",
    "output = multinomial_output_test(X_test, mapped_brand_predicted1, probs)"
   ]
  },
  {
   "cell_type": "code",
   "execution_count": 56,
   "metadata": {},
   "outputs": [],
   "source": [
    "new_merchant_col(output, 'merchant_string', 'merchant_string_dict') # so not cleaned\n",
    "lowercase_col(output, 'merchant_string_dict') # dictionary below needs lowercase to work\n",
    "output['mapped_brand_dict_3'] = ''\n",
    "\n",
    "# Run dictionary functions on data\n",
    "mapping_dict_funct(output, 'merchant_string_dict', 'mapped_brand_dict_3', mapping_dict)\n",
    "mcc_dict_funct(output, 'mcc', 'mapped_brand_dict_3', mcc_dict)\n",
    "# Create new column flags for predicted, correct, train/test, row count\n",
    "# Can be used to summarize, if desired\n",
    "output['predicted_flag'] = np.where(output['mapped_brand_dict_3'] != '',1,0)\n",
    "output['equals_prediced_flag_1'] = np.where(output['mapped_brand_response'] == output['mapped_brand_dict_3'],1,0)"
   ]
  },
  {
   "cell_type": "code",
   "execution_count": 24,
   "metadata": {},
   "outputs": [],
   "source": [
    "#test_model_output = output[(output['mcc'] !='6011') & (output['mcc'] !='7523') & (output['predicted_flag'] == 1)]"
   ]
  },
  {
   "cell_type": "code",
   "execution_count": null,
   "metadata": {},
   "outputs": [],
   "source": [
    "%%time\n",
    "test_accuracy = output.mean()[['equals_prediced_flag_1']]\n",
    "###TAKES 46 MINUTES TO RUN\n",
    "####ACCURACY: 0.99127!!!!!!\n",
    "#####Potentially faster ways to get accuracy\n",
    "##1\n",
    "#test_model_output['equals_prediced_flag_1'].mean()\n",
    "##2\n",
    "#incorrect_test_model_output = output[(output['mcc'] !='6011') & (output['mcc'] !='7523') & (output['predicted_flag'] != 1)]\n",
    "#len(incorrect_test_model_output)/len(test_model_output)"
   ]
  },
  {
   "cell_type": "code",
   "execution_count": 147,
   "metadata": {},
   "outputs": [
    {
     "data": {
      "text/plain": [
       "equals_prediced_flag_1    0.99127\n",
       "dtype: float64"
      ]
     },
     "execution_count": 147,
     "metadata": {},
     "output_type": "execute_result"
    }
   ],
   "source": [
    "test_accuracy"
   ]
  },
  {
   "cell_type": "code",
   "execution_count": 30,
   "metadata": {},
   "outputs": [],
   "source": [
    "test_model_output[test_model_output['equals_predicted_flag_1'] == 0]\n",
    "# ideas: remove ATM/parking, a number of best buy/burger kind wrong, maybe remove edwards or vend from dictionary, maybe stopword restaurant"
   ]
  },
  {
   "cell_type": "code",
   "execution_count": 140,
   "metadata": {},
   "outputs": [],
   "source": [
    "#output[(output['mcc'] !='6011') & (output['mcc'] !='7523') & (output['predicted_flag'] != 1)].sample(30)"
   ]
  },
  {
   "cell_type": "code",
   "execution_count": 141,
   "metadata": {},
   "outputs": [],
   "source": [
    "from sklearn.metrics import confusion_matrix"
   ]
  },
  {
   "cell_type": "code",
   "execution_count": null,
   "metadata": {},
   "outputs": [],
   "source": [
    "output[(output['mcc'] !='6011') & (output['mcc'] !='7523') & (output['predicted_flag'] == 1)].sample(5)"
   ]
  },
  {
   "cell_type": "code",
   "execution_count": null,
   "metadata": {},
   "outputs": [],
   "source": [
    "import matplotlib.pyplot as plt\n",
    "import seaborn as sns\n",
    "conf_mat_top10 = test_model_output[test_model_output['mapped_brand_dict_3'].isin(top10)]\n",
    "conf_mat = confusion_matrix(conf_mat_top10['mapped_brand_dict_3'], conf_mat_top10['mapped_brand_response'])\n",
    "fig, ax = plt.subplots(figsize=(10,10))\n",
    "sns.heatmap(conf_mat, annot=True, fmt='d',\n",
    "            xticklabels=conf_mat_top10['mapped_brand_response'].values, yticklabels=conf_mat_top10['mapped_brand_dict_3'].values)\n",
    "plt.ylabel('Actual')\n",
    "plt.xlabel('Predicted')\n",
    "plt.show()"
   ]
  },
  {
   "cell_type": "code",
   "execution_count": 207,
   "metadata": {},
   "outputs": [],
   "source": [
    "conf_mat_top10 = test_model_output[test_model_output['mapped_brand_dict_3'].isin(top10)]"
   ]
  },
  {
   "cell_type": "code",
   "execution_count": 199,
   "metadata": {},
   "outputs": [
    {
     "data": {
      "text/plain": [
       "['uber',\n",
       " 'paypal',\n",
       " 'mcdonalds',\n",
       " 'starbucks',\n",
       " 'dollargeneral',\n",
       " 'walmart',\n",
       " 'walgreens',\n",
       " 'tacobell',\n",
       " 'gamestop',\n",
       " 'dunkindonuts']"
      ]
     },
     "execution_count": 199,
     "metadata": {},
     "output_type": "execute_result"
    }
   ],
   "source": [
    "top10 = list(test_model_output['mapped_brand_dict_3'].value_counts().head(10).index)"
   ]
  },
  {
   "cell_type": "code",
   "execution_count": 206,
   "metadata": {},
   "outputs": [
    {
     "data": {
      "text/html": [
       "<div>\n",
       "<style scoped>\n",
       "    .dataframe tbody tr th:only-of-type {\n",
       "        vertical-align: middle;\n",
       "    }\n",
       "\n",
       "    .dataframe tbody tr th {\n",
       "        vertical-align: top;\n",
       "    }\n",
       "\n",
       "    .dataframe thead th {\n",
       "        text-align: right;\n",
       "    }\n",
       "</style>\n",
       "<table border=\"1\" class=\"dataframe\">\n",
       "  <thead>\n",
       "    <tr style=\"text-align: right;\">\n",
       "      <th></th>\n",
       "      <th>0</th>\n",
       "    </tr>\n",
       "  </thead>\n",
       "  <tbody>\n",
       "    <tr>\n",
       "      <th>0</th>\n",
       "      <td>starbucks</td>\n",
       "    </tr>\n",
       "    <tr>\n",
       "      <th>1</th>\n",
       "      <td>tacobell</td>\n",
       "    </tr>\n",
       "    <tr>\n",
       "      <th>2</th>\n",
       "      <td>dunkindonuts</td>\n",
       "    </tr>\n",
       "    <tr>\n",
       "      <th>3</th>\n",
       "      <td>aramark</td>\n",
       "    </tr>\n",
       "    <tr>\n",
       "      <th>4</th>\n",
       "      <td>walmart</td>\n",
       "    </tr>\n",
       "    <tr>\n",
       "      <th>5</th>\n",
       "      <td>walgreens</td>\n",
       "    </tr>\n",
       "    <tr>\n",
       "      <th>6</th>\n",
       "      <td>dollargeneral</td>\n",
       "    </tr>\n",
       "    <tr>\n",
       "      <th>7</th>\n",
       "      <td>gamestop</td>\n",
       "    </tr>\n",
       "    <tr>\n",
       "      <th>8</th>\n",
       "      <td>googleplay</td>\n",
       "    </tr>\n",
       "    <tr>\n",
       "      <th>9</th>\n",
       "      <td>hobbylobby</td>\n",
       "    </tr>\n",
       "    <tr>\n",
       "      <th>10</th>\n",
       "      <td>uber</td>\n",
       "    </tr>\n",
       "    <tr>\n",
       "      <th>11</th>\n",
       "      <td>mcdonalds</td>\n",
       "    </tr>\n",
       "    <tr>\n",
       "      <th>12</th>\n",
       "      <td>reynardsrestaurant</td>\n",
       "    </tr>\n",
       "    <tr>\n",
       "      <th>13</th>\n",
       "      <td>atm</td>\n",
       "    </tr>\n",
       "    <tr>\n",
       "      <th>14</th>\n",
       "      <td>vendingmachine</td>\n",
       "    </tr>\n",
       "    <tr>\n",
       "      <th>15</th>\n",
       "      <td>paypal</td>\n",
       "    </tr>\n",
       "    <tr>\n",
       "      <th>16</th>\n",
       "      <td>aeropostale</td>\n",
       "    </tr>\n",
       "    <tr>\n",
       "      <th>17</th>\n",
       "      <td>macys</td>\n",
       "    </tr>\n",
       "    <tr>\n",
       "      <th>18</th>\n",
       "      <td>itssugar</td>\n",
       "    </tr>\n",
       "    <tr>\n",
       "      <th>19</th>\n",
       "      <td>g2a</td>\n",
       "    </tr>\n",
       "    <tr>\n",
       "      <th>20</th>\n",
       "      <td>amc</td>\n",
       "    </tr>\n",
       "    <tr>\n",
       "      <th>21</th>\n",
       "      <td>goodwill</td>\n",
       "    </tr>\n",
       "    <tr>\n",
       "      <th>22</th>\n",
       "      <td>microsoft</td>\n",
       "    </tr>\n",
       "    <tr>\n",
       "      <th>23</th>\n",
       "      <td>cbs</td>\n",
       "    </tr>\n",
       "    <tr>\n",
       "      <th>24</th>\n",
       "      <td>1800contacts</td>\n",
       "    </tr>\n",
       "    <tr>\n",
       "      <th>25</th>\n",
       "      <td>target</td>\n",
       "    </tr>\n",
       "    <tr>\n",
       "      <th>26</th>\n",
       "      <td>samuelclemenshighschool</td>\n",
       "    </tr>\n",
       "    <tr>\n",
       "      <th>27</th>\n",
       "      <td>spotify</td>\n",
       "    </tr>\n",
       "    <tr>\n",
       "      <th>28</th>\n",
       "      <td>footlocker</td>\n",
       "    </tr>\n",
       "    <tr>\n",
       "      <th>29</th>\n",
       "      <td>postmates</td>\n",
       "    </tr>\n",
       "    <tr>\n",
       "      <th>30</th>\n",
       "      <td>ultabeauty</td>\n",
       "    </tr>\n",
       "    <tr>\n",
       "      <th>31</th>\n",
       "      <td>ebay</td>\n",
       "    </tr>\n",
       "    <tr>\n",
       "      <th>32</th>\n",
       "      <td>steam</td>\n",
       "    </tr>\n",
       "    <tr>\n",
       "      <th>33</th>\n",
       "      <td>godaddy</td>\n",
       "    </tr>\n",
       "  </tbody>\n",
       "</table>\n",
       "</div>"
      ],
      "text/plain": [
       "                          0\n",
       "0                 starbucks\n",
       "1                  tacobell\n",
       "2              dunkindonuts\n",
       "3                   aramark\n",
       "4                   walmart\n",
       "5                 walgreens\n",
       "6             dollargeneral\n",
       "7                  gamestop\n",
       "8                googleplay\n",
       "9                hobbylobby\n",
       "10                     uber\n",
       "11                mcdonalds\n",
       "12       reynardsrestaurant\n",
       "13                      atm\n",
       "14           vendingmachine\n",
       "15                   paypal\n",
       "16              aeropostale\n",
       "17                    macys\n",
       "18                 itssugar\n",
       "19                      g2a\n",
       "20                      amc\n",
       "21                 goodwill\n",
       "22                microsoft\n",
       "23                      cbs\n",
       "24             1800contacts\n",
       "25                   target\n",
       "26  samuelclemenshighschool\n",
       "27                  spotify\n",
       "28               footlocker\n",
       "29                postmates\n",
       "30               ultabeauty\n",
       "31                     ebay\n",
       "32                    steam\n",
       "33                  godaddy"
      ]
     },
     "execution_count": 206,
     "metadata": {},
     "output_type": "execute_result"
    }
   ],
   "source": [
    "pd.DataFrame(test_model_output[test_model_output['mapped_brand_dict_3'].isin(top10)]['mapped_brand_response'].unique())"
   ]
  },
  {
   "cell_type": "markdown",
   "metadata": {},
   "source": [
    "# Pickling"
   ]
  },
  {
   "cell_type": "code",
   "execution_count": 133,
   "metadata": {},
   "outputs": [],
   "source": [
    "import pickle\n",
    "import sys\n",
    "def save_as_pickled_object(obj, filepath):\n",
    "    max_bytes = 2**31 - 1\n",
    "    bytes_out = pickle.dumps(obj)\n",
    "    n_bytes = sys.getsizeof(bytes_out)\n",
    "    with open(filepath, 'wb') as f_out:\n",
    "        for idx in range(0, n_bytes, max_bytes):\n",
    "            f_out.write(bytes_out[idx:idx+max_bytes])\n",
    "\n",
    "\n",
    "save_as_pickled_object(multinomial,'final_ML_model.sav')\n",
    "\n",
    "import os\n",
    "def try_to_load_as_pickled_object_or_None(filepath):\n",
    "            \"\"\"\n",
    "            This is a defensive way to write pickle.load, allowing for very large files on all platforms\n",
    "            \"\"\"\n",
    "            max_bytes = 2**31 - 1\n",
    "\n",
    "            input_size = os.path.getsize(filepath)\n",
    "            bytes_in = bytearray(0)\n",
    "            with open(filepath, 'rb') as f_in:\n",
    "                for _ in range(0, input_size, max_bytes):\n",
    "                    bytes_in += f_in.read(max_bytes)\n",
    "            obj = pickle.loads(bytes_in)\n",
    "\n",
    "            return obj\n",
    "\n",
    "multinomial2 = try_to_load_as_pickled_object_or_None('final_ML_model.sav')"
   ]
  },
  {
   "cell_type": "code",
   "execution_count": 138,
   "metadata": {},
   "outputs": [
    {
     "name": "stdout",
     "output_type": "stream",
     "text": [
      "CPU times: user 50.7 s, sys: 31.5 s, total: 1min 22s\n",
      "Wall time: 1min 2s\n"
     ]
    },
    {
     "data": {
      "text/plain": [
       "0"
      ]
     },
     "execution_count": 138,
     "metadata": {},
     "output_type": "execute_result"
    }
   ],
   "source": [
    "%%time\n",
    "#len(multinomial2.predict(X_test))\n",
    "#314152\n",
    "#len(multinomial.predict(X_test))\n",
    "#314152\n",
    "sum(multinomial2.predict(X_test) != multinomial.predict(X_test))"
   ]
  },
  {
   "cell_type": "code",
   "execution_count": null,
   "metadata": {},
   "outputs": [],
   "source": [
    "#X_holdout1 = X_holdout.copy()\n",
    "#X_holdout1['multinom_pickle'] = multinomial2.predict(X_holdout)\n",
    "#X_holdout1['multinom'] = multinomial_train.predict(X_holdout)\n",
    "#X_holdout1[X_holdout1['multinom_pickle'] != X_holdout1['multinom']]"
   ]
  },
  {
   "cell_type": "code",
   "execution_count": 157,
   "metadata": {},
   "outputs": [],
   "source": [
    "data_dummified2 = data_dummified.copy()"
   ]
  },
  {
   "cell_type": "code",
   "execution_count": 159,
   "metadata": {},
   "outputs": [],
   "source": [
    "data_dummified2.drop(['network_V', 'mcc_5814'], axis=1, inplace = True)"
   ]
  },
  {
   "cell_type": "code",
   "execution_count": 163,
   "metadata": {},
   "outputs": [],
   "source": [
    "data_dummified2 = data_dummified2[0:5]"
   ]
  },
  {
   "cell_type": "code",
   "execution_count": 169,
   "metadata": {},
   "outputs": [],
   "source": [
    "new_cols = list(set(data_dummified.columns) - set(data_dummified2.columns))"
   ]
  },
  {
   "cell_type": "code",
   "execution_count": 171,
   "metadata": {},
   "outputs": [],
   "source": [
    "for i in new_cols:\n",
    "    data_dummified2[i] = 0"
   ]
  },
  {
   "cell_type": "code",
   "execution_count": 172,
   "metadata": {},
   "outputs": [
    {
     "data": {
      "text/plain": [
       "[]"
      ]
     },
     "execution_count": 172,
     "metadata": {},
     "output_type": "execute_result"
    }
   ],
   "source": [
    "list(set(data_dummified.columns) - set(data_dummified2.columns))"
   ]
  },
  {
   "cell_type": "code",
   "execution_count": 173,
   "metadata": {},
   "outputs": [
    {
     "data": {
      "text/plain": [
       "0    0\n",
       "1    0\n",
       "2    0\n",
       "3    0\n",
       "4    0\n",
       "Name: mcc_5814, dtype: int64"
      ]
     },
     "execution_count": 173,
     "metadata": {},
     "output_type": "execute_result"
    }
   ],
   "source": [
    "data_dummified2[new_cols[0]]"
   ]
  },
  {
   "cell_type": "code",
   "execution_count": 174,
   "metadata": {},
   "outputs": [
    {
     "data": {
      "text/plain": [
       "0    0\n",
       "1    0\n",
       "2    0\n",
       "3    0\n",
       "4    0\n",
       "Name: network_V, dtype: int64"
      ]
     },
     "execution_count": 174,
     "metadata": {},
     "output_type": "execute_result"
    }
   ],
   "source": [
    "data_dummified2[new_cols[1]]"
   ]
  },
  {
   "cell_type": "code",
   "execution_count": null,
   "metadata": {},
   "outputs": [],
   "source": []
  }
 ],
 "metadata": {
  "kernelspec": {
   "display_name": "Python 3",
   "language": "python",
   "name": "python3"
  },
  "language_info": {
   "codemirror_mode": {
    "name": "ipython",
    "version": 3
   },
   "file_extension": ".py",
   "mimetype": "text/x-python",
   "name": "python",
   "nbconvert_exporter": "python",
   "pygments_lexer": "ipython3",
   "version": "3.6.5"
  }
 },
 "nbformat": 4,
 "nbformat_minor": 2
}
